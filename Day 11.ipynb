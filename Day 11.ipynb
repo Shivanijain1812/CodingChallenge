{
 "cells": [
  {
   "cell_type": "code",
   "execution_count": 4,
   "metadata": {},
   "outputs": [
    {
     "name": "stdout",
     "output_type": "stream",
     "text": [
      "2\n",
      "2\n"
     ]
    }
   ],
   "source": [
    "#Python program to sum all the items in a list.\n",
    "a = [1,2,3,-4]\n",
    "print(sum(a))\n",
    "\n",
    "#Another method\n",
    "\n",
    "def list_sum(a):\n",
    "    sum1 = 0\n",
    "    for i in a:\n",
    "        sum1 += i\n",
    "    return sum1\n",
    "\n",
    "print(list_sum(a))\n",
    "    \n"
   ]
  },
  {
   "cell_type": "code",
   "execution_count": 16,
   "metadata": {},
   "outputs": [
    {
     "name": "stdout",
     "output_type": "stream",
     "text": [
      "-6\n"
     ]
    }
   ],
   "source": [
    "#Python program to multiply all the items in a list.\n",
    "def list_product(a):\n",
    "     sum1 = 1\n",
    "     for i in a:\n",
    "        sum1 = sum1 * i\n",
    "     return sum1\n",
    "\n",
    "print(list_product([-1,2,3]))\n",
    "    "
   ]
  },
  {
   "cell_type": "code",
   "execution_count": 27,
   "metadata": {},
   "outputs": [
    {
     "name": "stdout",
     "output_type": "stream",
     "text": [
      "3\n",
      "7\n"
     ]
    }
   ],
   "source": [
    "# Python program to get the largest number from a list.\n",
    "print(max(a))\n",
    "#Another method\n",
    "\n",
    "def largest_num(c):\n",
    "    num = 0\n",
    "    for i in c:\n",
    "        if i > num:\n",
    "            num = i\n",
    "    return num\n",
    "print(largest_num([7,2,3]))"
   ]
  },
  {
   "cell_type": "code",
   "execution_count": 39,
   "metadata": {},
   "outputs": [
    {
     "name": "stdout",
     "output_type": "stream",
     "text": [
      "-4\n",
      "2\n"
     ]
    }
   ],
   "source": [
    "# Python program to get the smallest number from a list.\n",
    "print(min(a))\n",
    "#Another method\n",
    "\n",
    "def smallest_num(d):\n",
    "    num = d[0]\n",
    "    for i in d:\n",
    "        if i < num:\n",
    "            num = i\n",
    "    return num\n",
    "print(smallest_num([7,2,3]))"
   ]
  },
  {
   "cell_type": "code",
   "execution_count": 42,
   "metadata": {},
   "outputs": [
    {
     "name": "stdout",
     "output_type": "stream",
     "text": [
      "[10, 20, 30, 50, 60, 40, 80]\n"
     ]
    }
   ],
   "source": [
    "# Python program to remove duplicates from a list.\n",
    "a = [10,20,30,20,10,50,60,40,80,50,40]\n",
    "\n",
    "def duplicate_removal(a):\n",
    "    final_list = []\n",
    "    for i in a:\n",
    "        if i not in final_list:\n",
    "            final_list.append(i)\n",
    "    print(final_list)\n",
    "\n",
    "duplicate_removal(a)\n",
    "\n",
    "\n",
    "    \n",
    "    "
   ]
  },
  {
   "cell_type": "code",
   "execution_count": null,
   "metadata": {},
   "outputs": [],
   "source": []
  }
 ],
 "metadata": {
  "kernelspec": {
   "display_name": "Python 3",
   "language": "python",
   "name": "python3"
  },
  "language_info": {
   "codemirror_mode": {
    "name": "ipython",
    "version": 3
   },
   "file_extension": ".py",
   "mimetype": "text/x-python",
   "name": "python",
   "nbconvert_exporter": "python",
   "pygments_lexer": "ipython3",
   "version": "3.8.5"
  }
 },
 "nbformat": 4,
 "nbformat_minor": 4
}
