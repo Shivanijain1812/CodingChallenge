{
 "cells": [
  {
   "cell_type": "code",
   "execution_count": 5,
   "metadata": {},
   "outputs": [
    {
     "name": "stdout",
     "output_type": "stream",
     "text": [
      "[2, 4, 6, 8]\n",
      "[2, 4, 6, 8]\n"
     ]
    }
   ],
   "source": [
    "#Map\n",
    "def add(n):\n",
    "    return n+n\n",
    "\n",
    "num = [1,2,3,4]\n",
    "ans = map(add,num)\n",
    "\n",
    "print(list(ans))\n",
    "\n",
    "#Using Lambda Function\n",
    "\n",
    "add = lambda n : n + n\n",
    "ans = map(add,num)\n",
    "print(list(ans))\n",
    "\n"
   ]
  },
  {
   "cell_type": "code",
   "execution_count": 30,
   "metadata": {},
   "outputs": [
    {
     "name": "stdout",
     "output_type": "stream",
     "text": [
      "[14, 25, 36]\n",
      "[6, 15, 24]\n"
     ]
    }
   ],
   "source": [
    "#Add two list using lamda function\n",
    "list1 = [10,20,30]\n",
    "list2 = [4,5,6]\n",
    "\n",
    "total = lambda x, y : x + y\n",
    "result = map(total, list1, list2)\n",
    "print(list(result))\n",
    "\n",
    "difference = lambda x,y : x - y\n",
    "result = map(difference, list1, list2)\n",
    "print(list(result))"
   ]
  },
  {
   "cell_type": "code",
   "execution_count": 7,
   "metadata": {},
   "outputs": [
    {
     "name": "stdout",
     "output_type": "stream",
     "text": [
      "[['m', 'a', 't'], ['c', 'a', 't'], ['h', 'a', 't'], ['s', 'a', 't']]\n"
     ]
    }
   ],
   "source": [
    "#map() can listify the list of strings individually\n",
    "\n",
    "#list of string \n",
    "\n",
    "l = ['mat', 'cat', 'hat', 'sat']\n",
    "\n",
    "seprated_letter = list(map(list,l))\n",
    "print(seprated_letter)\n"
   ]
  },
  {
   "cell_type": "code",
   "execution_count": 13,
   "metadata": {},
   "outputs": [
    {
     "name": "stdout",
     "output_type": "stream",
     "text": [
      "Using Function: \n",
      "[3, 6, 9, 12, 15]\n",
      "\n",
      "Using Lambda function: \n",
      "[3, 6, 9, 12, 15]\n"
     ]
    }
   ],
   "source": [
    "#Python program to triple all numbers of a given list of integers. Use Python map.\n",
    "print(\"Using Function: \")\n",
    "def tripling(n):\n",
    "    return 3*n \n",
    "\n",
    "num = (1,2,3,4,5)\n",
    "\n",
    "ans = map(tripling,num)\n",
    "\n",
    "print(list(ans))\n",
    "\n",
    "#using lambda function\n",
    "print(\"\\nUsing Lambda function: \")\n",
    "ansL = lambda x : x * 3\n",
    "\n",
    "print(list(map(ansL,num)))\n"
   ]
  },
  {
   "cell_type": "code",
   "execution_count": 23,
   "metadata": {},
   "outputs": [
    {
     "name": "stdout",
     "output_type": "stream",
     "text": [
      "[10, 400, 27000, 2560000, 312500000, 46656000000, 8235430000000, 134217728000000000, 34867844010000000000]\n",
      "[1, 4, 9, 16, 25]\n"
     ]
    }
   ],
   "source": [
    "base_num = [10,20,30,40,50,60,70,80,90,100]\n",
    "index = [1,2,3,4,5,6,7,9,10]\n",
    "ans = map(pow,base_num,index)\n",
    "print(list(ans))\n",
    "\n",
    "a = [1,2,3,4,5]\n",
    "\n",
    "square = lambda x : pow(x,2)\n",
    "\n",
    "print(list(map(square, a)))\n"
   ]
  },
  {
   "cell_type": "code",
   "execution_count": 28,
   "metadata": {},
   "outputs": [
    {
     "name": "stdout",
     "output_type": "stream",
     "text": [
      "{('H', 'h'), ('A', 'a'), ('N', 'n'), ('I', 'i'), ('V', 'v'), ('S', 's')}\n"
     ]
    }
   ],
   "source": [
    "#convert all the characters in uppercase and lowercase and eliminate duplicate letters from a given sequence. Use map() function.\n",
    "\n",
    "def caseChange(s):\n",
    "    return str(s).upper(), str(s).lower()\n",
    "chars = ['s','i','h','V','A','n','i','S','I','H','v','a','N','I','n','N']\n",
    "\n",
    "ans = map(caseChange, chars)\n",
    "\n",
    "print(set(ans))\n"
   ]
  },
  {
   "cell_type": "code",
   "execution_count": null,
   "metadata": {},
   "outputs": [],
   "source": []
  }
 ],
 "metadata": {
  "kernelspec": {
   "display_name": "Python 3",
   "language": "python",
   "name": "python3"
  },
  "language_info": {
   "codemirror_mode": {
    "name": "ipython",
    "version": 3
   },
   "file_extension": ".py",
   "mimetype": "text/x-python",
   "name": "python",
   "nbconvert_exporter": "python",
   "pygments_lexer": "ipython3",
   "version": "3.8.5"
  }
 },
 "nbformat": 4,
 "nbformat_minor": 4
}
