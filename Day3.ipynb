{
 "cells": [
  {
   "cell_type": "code",
   "execution_count": 12,
   "metadata": {},
   "outputs": [
    {
     "name": "stdout",
     "output_type": "stream",
     "text": [
      "Mr.Sam\n",
      "Mr.Jones\n"
     ]
    }
   ],
   "source": [
    "#Get a new string from a given string where \"Mr\" has been added to the front. If the given string already begins with \"Mr\" then return the string unchanged.\n",
    "\n",
    "def new_string(str):\n",
    "  if len(str) >= 2 and str[:3] == \"Mr.\":\n",
    "    return str\n",
    "  return \"Mr.\" + str\n",
    "\n",
    "print(new_string(\"Sam\"))\n",
    "print(new_string(\"Mr.Jones\"))\n",
    "      \n"
   ]
  },
  {
   "cell_type": "code",
   "execution_count": 21,
   "metadata": {},
   "outputs": [
    {
     "name": "stdout",
     "output_type": "stream",
     "text": [
      "abcabc\n",
      ".py.py.py\n"
     ]
    }
   ],
   "source": [
    "#Get a string which is n (non-negative integer) copies of a given string.\n",
    "def larger_string(str, n):\n",
    " return str * n\n",
    "\n",
    "print(larger_string('abc', 2))\n",
    "print(larger_string('.py', 3))"
   ]
  },
  {
   "cell_type": "code",
   "execution_count": 26,
   "metadata": {},
   "outputs": [
    {
     "name": "stdout",
     "output_type": "stream",
     "text": [
      "Enter the number:2\n",
      "2 is even \n"
     ]
    }
   ],
   "source": [
    "#Number is odd or even\n",
    "num = int(input(\"Enter the number:\"))\n",
    "ans = num % 2\n",
    "if ans == 0:\n",
    "    print(str(num) + \" is even \")\n",
    "else:\n",
    "    print(str(num) + \" is odd\")\n",
    "        "
   ]
  },
  {
   "cell_type": "code",
   "execution_count": 28,
   "metadata": {},
   "outputs": [
    {
     "name": "stdout",
     "output_type": "stream",
     "text": [
      "False\n",
      "True\n"
     ]
    }
   ],
   "source": [
    "def vowel(char):\n",
    "    vowels = 'aeiou'\n",
    "    return char in vowels\n",
    "\n",
    "print(vowel('c'))\n",
    "print(vowel('a'))"
   ]
  },
  {
   "cell_type": "code",
   "execution_count": 39,
   "metadata": {},
   "outputs": [
    {
     "name": "stdout",
     "output_type": "stream",
     "text": [
      "True\n",
      "False\n"
     ]
    }
   ],
   "source": [
    "#Check whether a specified value is contained in a group of values.\n",
    "\n",
    "def testing(test_set,n):\n",
    "    for value in test_set:\n",
    "        if n == value:\n",
    "            return True\n",
    "    return False \n",
    "\n",
    "print(testing([5, 8, 3], 8))\n",
    "print(testing([5, 8, 3], 7))    \n",
    "    "
   ]
  },
  {
   "cell_type": "code",
   "execution_count": 42,
   "metadata": {},
   "outputs": [
    {
     "name": "stdout",
     "output_type": "stream",
     "text": [
      "**\n",
      "***\n",
      "******\n",
      "*****\n"
     ]
    }
   ],
   "source": [
    "#Create a histogram from a given list of integers.\n",
    "def histogram( items ):\n",
    "    for n in items:\n",
    "        print('*' * n) \n",
    "       \n",
    "       \n",
    "\n",
    "histogram([2, 3, 6, 5])"
   ]
  },
  {
   "cell_type": "code",
   "execution_count": 48,
   "metadata": {},
   "outputs": [
    {
     "name": "stdout",
     "output_type": "stream",
     "text": [
      "12352210\n"
     ]
    }
   ],
   "source": [
    "#concatenate all elements in a list into a string and return it.\n",
    "\n",
    "def concat_str(test_string):\n",
    "    result = ''\n",
    "    for element in test_string:\n",
    "        result = result + str(element)\n",
    "    return result\n",
    "print(concat_str([123,5,22,10]))"
   ]
  },
  {
   "cell_type": "code",
   "execution_count": 49,
   "metadata": {},
   "outputs": [
    {
     "name": "stdout",
     "output_type": "stream",
     "text": [
      "386\n",
      "462\n",
      "418\n",
      "344\n",
      "236\n",
      "566\n",
      "978\n",
      "328\n",
      "162\n",
      "758\n",
      "918\n",
      "237\n"
     ]
    }
   ],
   "source": [
    "#print out all even numbers from a given numbers list in the same order and stop the printing if any numbers that come after 237 in the sequence.\n",
    "\n",
    "numbers = [    \n",
    "    386, 462, 47, 418, 907, 344, 236, 375, 823, 566, 597, 978, 328, 615, 953, 345, \n",
    "    399, 162, 758, 219, 918, 237, 412, 566, 826, 248, 866, 950, 626, 949, 687, 217, \n",
    "    815, 67, 104, 58, 512, 24, 892, 894, 767, 553, 81, 379, 843, 831, 445, 742, 717, \n",
    "    958,743, 527\n",
    "    ]\n",
    "\n",
    "for x in numbers:\n",
    "    if x == 237:\n",
    "        print(x)\n",
    "        break;\n",
    "    elif x % 2 == 0:\n",
    "        print(x)\n",
    "        "
   ]
  },
  {
   "cell_type": "code",
   "execution_count": 3,
   "metadata": {},
   "outputs": [
    {
     "name": "stdout",
     "output_type": "stream",
     "text": [
      "['Black', 'White']\n",
      "{'Black', 'White'}\n"
     ]
    }
   ],
   "source": [
    " #print out a set containing all the colors from color_list_1 which are not present in color_list_2\n",
    "\n",
    "color_list_1 = set([\"White\", \"Black\", \"Red\"])\n",
    "color_list_2 = set([\"Red\", \"Green\"])\n",
    "final_list = []\n",
    "for i in color_list_1:\n",
    "    if i not in color_list_2:\n",
    "        final_list.append(i)\n",
    "        \n",
    "print(final_list) \n",
    "\n",
    "\n",
    "#another way\n",
    "print(color_list_1.difference(color_list_2))\n"
   ]
  },
  {
   "cell_type": "code",
   "execution_count": null,
   "metadata": {},
   "outputs": [],
   "source": []
  }
 ],
 "metadata": {
  "kernelspec": {
   "display_name": "Python 3",
   "language": "python",
   "name": "python3"
  },
  "language_info": {
   "codemirror_mode": {
    "name": "ipython",
    "version": 3
   },
   "file_extension": ".py",
   "mimetype": "text/x-python",
   "name": "python",
   "nbconvert_exporter": "python",
   "pygments_lexer": "ipython3",
   "version": "3.8.5"
  }
 },
 "nbformat": 4,
 "nbformat_minor": 4
}
