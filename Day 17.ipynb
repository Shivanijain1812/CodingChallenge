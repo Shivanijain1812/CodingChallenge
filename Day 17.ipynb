{
 "cells": [
  {
   "cell_type": "code",
   "execution_count": 43,
   "metadata": {},
   "outputs": [
    {
     "name": "stdout",
     "output_type": "stream",
     "text": [
      "array('f', [1.5, 3.5, 4.5, 3.9000000953674316, 10.100000381469727, 3.0, 8.0, 7.0, 0.0])\n"
     ]
    }
   ],
   "source": [
    "#Creat an array\n",
    "import array as arr\n",
    "a = arr.array('f', [1.5, 3.5, 4.5,3.9,10.1,3,8,7,0])\n",
    "print(a)"
   ]
  },
  {
   "cell_type": "code",
   "execution_count": 9,
   "metadata": {},
   "outputs": [
    {
     "name": "stdout",
     "output_type": "stream",
     "text": [
      "<class 'array.array'>\n"
     ]
    }
   ],
   "source": [
    "print(type(a))"
   ]
  },
  {
   "cell_type": "code",
   "execution_count": 42,
   "metadata": {},
   "outputs": [
    {
     "name": "stdout",
     "output_type": "stream",
     "text": [
      "First Element:  1.5\n",
      "Second Element:  3.5\n",
      "Third Element:  4.5\n"
     ]
    }
   ],
   "source": [
    "#Accessing Python Array Elements\n",
    "print(\"First Element: \" , a[0])\n",
    "print(\"Second Element: \", a[1])\n",
    "print(\"Third Element: \", a[2])"
   ]
  },
  {
   "cell_type": "code",
   "execution_count": 49,
   "metadata": {},
   "outputs": [
    {
     "name": "stdout",
     "output_type": "stream",
     "text": [
      "array('i', [62, 5, 42])\n"
     ]
    }
   ],
   "source": [
    "#Slicing an array \n",
    "numbers_list = [2, 5, 62, 5, 42, 52, 48, 5]\n",
    "numbers_array = arr.array('i', numbers_list)\n",
    "\n",
    "print(numbers_array[2:5])"
   ]
  },
  {
   "cell_type": "code",
   "execution_count": 52,
   "metadata": {},
   "outputs": [
    {
     "name": "stdout",
     "output_type": "stream",
     "text": [
      "array('i', [0, 5, 7, 1, 9, 7, 5])\n",
      "array('i', [5, 7, 1, 9, 7, 5])\n"
     ]
    }
   ],
   "source": [
    "#Changing and Adding Elements. Arrays are mutable; their elements can be changed in a similar way as lists\n",
    "num = arr.array('i', [2,5,7,1,9,7,5])\n",
    "\n",
    "num[0] = 0\n",
    "\n",
    "print(num)\n",
    "\n",
    "# del an elememt\n",
    "\n",
    "del num[0]\n",
    "print(num)"
   ]
  },
  {
   "cell_type": "code",
   "execution_count": 53,
   "metadata": {},
   "outputs": [
    {
     "name": "stdout",
     "output_type": "stream",
     "text": [
      "5\n",
      "7\n",
      "1\n"
     ]
    }
   ],
   "source": [
    "#Access individual element through indexes.\n",
    "\n",
    "for i in range(0,3):\n",
    "    print(num[i])\n"
   ]
  },
  {
   "cell_type": "code",
   "execution_count": 54,
   "metadata": {},
   "outputs": [
    {
     "name": "stdout",
     "output_type": "stream",
     "text": [
      "array('i', [5, 7, 1, 9, 7, 5, 0, 0, 0, 0])\n"
     ]
    }
   ],
   "source": [
    "#Python program to append a new item to the end of the array.\n",
    "num.extend([0,0,0,0])\n",
    "print(num)"
   ]
  },
  {
   "cell_type": "code",
   "execution_count": 63,
   "metadata": {},
   "outputs": [
    {
     "name": "stdout",
     "output_type": "stream",
     "text": [
      "0\n",
      "0\n",
      "0\n",
      "0\n",
      "5\n",
      "7\n",
      "9\n",
      "1\n",
      "7\n",
      "5\n"
     ]
    }
   ],
   "source": [
    "for i in range(0,len(num)):\n",
    "    print(num[len(num)-i-1])\n",
    "    "
   ]
  },
  {
   "cell_type": "code",
   "execution_count": 64,
   "metadata": {},
   "outputs": [
    {
     "name": "stdout",
     "output_type": "stream",
     "text": [
      "Original array: array('i', [1, 3, 5, 3, 7, 1, 9, 3])\n",
      "Reverse the order of the items:\n",
      "array('i', [3, 9, 1, 7, 3, 5, 3, 1])\n"
     ]
    }
   ],
   "source": [
    "from array import *\n",
    "array_num = array('i', [1, 3, 5, 3, 7, 1, 9, 3])\n",
    "print(\"Original array: \"+str(array_num))\n",
    "array_num.reverse()\n",
    "print(\"Reverse the order of the items:\")\n",
    "print(str(array_num))"
   ]
  },
  {
   "cell_type": "code",
   "execution_count": 65,
   "metadata": {},
   "outputs": [
    {
     "name": "stdout",
     "output_type": "stream",
     "text": [
      "Original array: array('i', [1, 3, 5, 7, 9])\n",
      "Current memory address and the length in elements of the buffer: (2391617499312, 5)\n",
      "The size of the memory buffer in bytes: 20\n"
     ]
    }
   ],
   "source": [
    "from array import *\n",
    "array_num = array('i', [1, 3, 5, 7, 9])\n",
    "print(\"Original array: \"+str(array_num))\n",
    "print(\"Current memory address and the length in elements of the buffer: \"+str(array_num.buffer_info()))\n",
    "print(\"The size of the memory buffer in bytes: \"+str(array_num.buffer_info()[1] * array_num.itemsize))\n"
   ]
  },
  {
   "cell_type": "code",
   "execution_count": null,
   "metadata": {},
   "outputs": [],
   "source": []
  }
 ],
 "metadata": {
  "kernelspec": {
   "display_name": "Python 3",
   "language": "python",
   "name": "python3"
  },
  "language_info": {
   "codemirror_mode": {
    "name": "ipython",
    "version": 3
   },
   "file_extension": ".py",
   "mimetype": "text/x-python",
   "name": "python",
   "nbconvert_exporter": "python",
   "pygments_lexer": "ipython3",
   "version": "3.8.5"
  }
 },
 "nbformat": 4,
 "nbformat_minor": 4
}
