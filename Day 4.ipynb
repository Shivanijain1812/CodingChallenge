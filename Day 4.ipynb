{
 "cells": [
  {
   "cell_type": "code",
   "execution_count": 15,
   "metadata": {},
   "outputs": [
    {
     "name": "stdout",
     "output_type": "stream",
     "text": [
      "Enter the value for A: 4\n",
      "Enter the value for B: 6\n",
      "2\n"
     ]
    },
    {
     "data": {
      "text/plain": [
       "2"
      ]
     },
     "execution_count": 15,
     "metadata": {},
     "output_type": "execute_result"
    }
   ],
   "source": [
    "#Greatest Common Divisor(GCD) of 2 positive int\n",
    "\n",
    "a = int(input(\"Enter the value for A: \"))\n",
    "b = int (input(\"Enter the value for B: \"))\n",
    "\n",
    "def gcd(a,b):\n",
    "    gcd = 1\n",
    "    \n",
    "    if a % b == 0:\n",
    "        return b\n",
    "    \n",
    "    for i in range(int(b/2),0,-1):\n",
    "        if a % i == 0 and b % i == 0:\n",
    "            gcd = i\n",
    "            break\n",
    "    return gcd\n",
    "\n",
    "print(gcd(a,b))\n",
    "\n",
    "#another method\n",
    "\n",
    "import math\n",
    "gcd(a,b)"
   ]
  },
  {
   "cell_type": "code",
   "execution_count": 17,
   "metadata": {},
   "outputs": [
    {
     "name": "stdout",
     "output_type": "stream",
     "text": [
      "Enter the value for A: 4\n",
      "Enter the value for B: 6\n",
      "12\n"
     ]
    }
   ],
   "source": [
    "#least Common Multiple(LCM)\n",
    "\n",
    "a = int(input(\"Enter the value for A: \"))\n",
    "b = int (input(\"Enter the value for B: \"))\n",
    "\n",
    "def lcm(a,b):\n",
    "    if a > b:\n",
    "        c = a\n",
    "    else:\n",
    "        c = b\n",
    "\n",
    "    while(True):\n",
    "        if (c % a == 0) and (c % b == 0):\n",
    "            lcm = c\n",
    "            break\n",
    "        c += 1\n",
    "    return lcm\n",
    "\n",
    "print(lcm(a,b))\n",
    "\n",
    "\n"
   ]
  },
  {
   "cell_type": "code",
   "execution_count": 6,
   "metadata": {},
   "outputs": [
    {
     "name": "stdout",
     "output_type": "stream",
     "text": [
      "Enter the value for A: 1\n",
      "Enter the value for B: 2\n",
      "Enter the value for C: 2\n",
      "0\n"
     ]
    }
   ],
   "source": [
    "#Sum of three given integers. However, if two values are equal sum will be zero.\n",
    "a = int(input(\"Enter the value for A: \"))\n",
    "b = int (input(\"Enter the value for B: \"))\n",
    "c = int (input(\"Enter the value for C: \"))\n",
    "sum = 0 \n",
    "def sum(a,b,c):\n",
    "    \n",
    "    if a == b or a == c or b == c:\n",
    "        sum = 0\n",
    "    else:\n",
    "        sum = a + b + c\n",
    "    return sum\n",
    "\n",
    "print(sum(a,b,c))"
   ]
  },
  {
   "cell_type": "code",
   "execution_count": 5,
   "metadata": {},
   "outputs": [
    {
     "name": "stdout",
     "output_type": "stream",
     "text": [
      "Enter the value for A: 12\n",
      "Enter the value for B: 2\n",
      "14\n",
      "Enter the value for A: 12\n",
      "Enter the value for B: 12\n",
      "24\n"
     ]
    }
   ],
   "source": [
    "#Sum of two given integers. However, if the sum is between 15 to 20 it will return 20.\n",
    "a = int(input(\"Enter the value for A: \"))\n",
    "b = int (input(\"Enter the value for B: \"))\n",
    "sum = 0 \n",
    "ans = 0\n",
    "def sum(a,b):\n",
    "    ans = a + b\n",
    "    if ans >= 15 and ans <= 20:\n",
    "        sum = 20\n",
    "    else:\n",
    "        sum = ans\n",
    "    return sum\n",
    "\n",
    "print(sum(a,b))\n",
    "\n",
    "#Another Method\n",
    "a = int(input(\"Enter the value for A: \"))\n",
    "b = int (input(\"Enter the value for B: \"))\n",
    "sum = 0 \n",
    "ans = 0\n",
    "def sum(a, b):\n",
    "    sum = a + b\n",
    "    if sum in range(15, 20):\n",
    "        return 20\n",
    "    else:\n",
    "        return sum\n",
    "print(sum(a,b))"
   ]
  },
  {
   "cell_type": "code",
   "execution_count": 10,
   "metadata": {},
   "outputs": [
    {
     "name": "stdout",
     "output_type": "stream",
     "text": [
      "False\n",
      "True\n",
      "True\n",
      "True\n"
     ]
    }
   ],
   "source": [
    "#Program which will return true if the two given integer values are equal or their sum or difference is 5.\n",
    "\n",
    "def test(a,b):\n",
    "    if a == b or abs(a - b) == 5 or a + b == 5:\n",
    "        return True\n",
    "    else:\n",
    "        return False\n",
    "    \n",
    "print(test(7, 1))\n",
    "print(test(7, 2))\n",
    "print(test(3, 2))\n",
    "print(test(2, 2))    "
   ]
  },
  {
   "cell_type": "code",
   "execution_count": 13,
   "metadata": {},
   "outputs": [
    {
     "name": "stdout",
     "output_type": "stream",
     "text": [
      "NAME: Sam\n",
      "AGE: 19\n",
      "ADDRESS: New York\n"
     ]
    }
   ],
   "source": [
    "\n",
    "def personal_detail():\n",
    "    name, age = \"Sam\", 19\n",
    "    address = \"New York\"\n",
    "    print(\"NAME: {}\\nAGE: {}\\nADDRESS: {}\".format(name,age,address))\n",
    "    \n",
    "personal_detail()\n",
    "    \n"
   ]
  },
  {
   "cell_type": "code",
   "execution_count": 14,
   "metadata": {},
   "outputs": [
    {
     "name": "stdout",
     "output_type": "stream",
     "text": [
      "6.324555320336759\n"
     ]
    }
   ],
   "source": [
    "#Program to compute the distance between the points (x1, y1) and (x2, y2)\n",
    "\n",
    "import math\n",
    "p1 = [4, 0]\n",
    "p2 = [6, 6]\n",
    "distance = math.sqrt(((p1[0]-p2[0])**2)+((p1[1]-p2[1])**2))\n",
    "\n",
    "print(distance)"
   ]
  },
  {
   "cell_type": "code",
   "execution_count": null,
   "metadata": {},
   "outputs": [],
   "source": []
  }
 ],
 "metadata": {
  "kernelspec": {
   "display_name": "Python 3",
   "language": "python",
   "name": "python3"
  },
  "language_info": {
   "codemirror_mode": {
    "name": "ipython",
    "version": 3
   },
   "file_extension": ".py",
   "mimetype": "text/x-python",
   "name": "python",
   "nbconvert_exporter": "python",
   "pygments_lexer": "ipython3",
   "version": "3.8.5"
  }
 },
 "nbformat": 4,
 "nbformat_minor": 4
}
