{
 "cells": [
  {
   "cell_type": "code",
   "execution_count": 1,
   "metadata": {},
   "outputs": [
    {
     "name": "stdout",
     "output_type": "stream",
     "text": [
      "\n",
      "['c', 'd', 'e']\n",
      "\n"
     ]
    }
   ],
   "source": [
    "#https://gist.github.com/nchitalov/2f2b03e5cf1e19da1525\n",
    "def caesar_encrypt(realText, step):\n",
    "    outText = []\n",
    "    cryptText = []\n",
    "\n",
    "    uppercase = ['A', 'B', 'C', 'D', 'E', 'F', 'G', 'H', 'I', 'J', 'K', 'L', 'M', 'N', 'O', 'P', 'Q', 'R', 'S', 'T', 'U', 'V', 'W', 'X', 'Y', 'Z']\n",
    "    lowercase = ['a', 'b', 'c', 'd', 'e', 'f', 'g', 'h', 'i', 'j', 'k', 'l', 'm', 'n', 'o', 'p', 'q', 'r', 's', 't', 'u', 'v', 'w', 'x', 'y', 'z']\n",
    "\n",
    "    for eachLetter in realText:\n",
    "        if eachLetter in uppercase:\n",
    "            index = uppercase.index(eachLetter)\n",
    "            crypting = (index + step) % 26\n",
    "            cryptText.append(crypting)\n",
    "            newLetter = uppercase[crypting]\n",
    "            outText.append(newLetter)\n",
    "        elif eachLetter in lowercase:\n",
    "            index = lowercase.index(eachLetter)\n",
    "            crypting = (index + step) % 26\n",
    "            cryptText.append(crypting)\n",
    "            newLetter = lowercase[crypting]\n",
    "            outText.append(newLetter)\n",
    "    return outText\n",
    "\n",
    "code = caesar_encrypt('abc', 2)\n",
    "print()\n",
    "print(code)\n",
    "print()"
   ]
  },
  {
   "cell_type": "code",
   "execution_count": 8,
   "metadata": {},
   "outputs": [
    {
     "name": "stdout",
     "output_type": "stream",
     "text": [
      "enter string: abc\n",
      "enter shift number: 1\n",
      "original string:  abc\n",
      "after encryption:  bcd\n"
     ]
    }
   ],
   "source": [
    "def encrypt(string, shift):\n",
    " \n",
    "  cipher = ''\n",
    "  for char in string: \n",
    "    if char == ' ':\n",
    "      cipher = cipher + char\n",
    "    elif  char.isupper():\n",
    "      cipher = cipher + chr((ord(char) + shift - 65) % 26 + 65)\n",
    "    else:\n",
    "      cipher = cipher + chr((ord(char) + shift - 97) % 26 + 97)\n",
    "  \n",
    "  return cipher\n",
    " \n",
    "text = input(\"enter string: \")\n",
    "s = int(input(\"enter shift number: \"))\n",
    "print(\"original string: \", text)\n",
    "print(\"after encryption: \", encrypt(text, s))"
   ]
  },
  {
   "cell_type": "code",
   "execution_count": 11,
   "metadata": {},
   "outputs": [
    {
     "name": "stdout",
     "output_type": "stream",
     "text": [
      "Hacking key #25: ZPVXFMDPN\n"
     ]
    }
   ],
   "source": [
    "message = '' #encrypted message\n",
    "LETTERS = 'ABCDEFGHIJKLMNOPQRSTUVWXYZ'\n",
    "\n",
    "for key in range(len(LETTERS)):\n",
    "   translated = ''\n",
    "   for symbol in message:\n",
    "      if symbol in LETTERS:\n",
    "         num = LETTERS.find(symbol)\n",
    "         num = num - key\n",
    "         if num < 0:\n",
    "            num = num + len(LETTERS)\n",
    "         translated = translated + LETTERS[num]\n",
    "      else:\n",
    "         translated = translated + symbol\n",
    "print('Hacking key #%s: %s' % (key, translated))"
   ]
  },
  {
   "cell_type": "code",
   "execution_count": null,
   "metadata": {},
   "outputs": [],
   "source": []
  }
 ],
 "metadata": {
  "kernelspec": {
   "display_name": "Python 3",
   "language": "python",
   "name": "python3"
  },
  "language_info": {
   "codemirror_mode": {
    "name": "ipython",
    "version": 3
   },
   "file_extension": ".py",
   "mimetype": "text/x-python",
   "name": "python",
   "nbconvert_exporter": "python",
   "pygments_lexer": "ipython3",
   "version": "3.8.5"
  }
 },
 "nbformat": 4,
 "nbformat_minor": 4
}
