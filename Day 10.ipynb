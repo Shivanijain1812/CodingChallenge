{
 "cells": [
  {
   "cell_type": "code",
   "execution_count": 1,
   "metadata": {},
   "outputs": [
    {
     "name": "stdout",
     "output_type": "stream",
     "text": [
      "\n",
      "JSON data:\n",
      "{'Name': 'David', 'Class': 'I', 'Age': 6}\n",
      "\n",
      "Name:  David\n",
      "Class:  I\n",
      "Age:  6\n"
     ]
    }
   ],
   "source": [
    "#Write a Python program to convert JSON data to Python object.\n",
    "import json\n",
    "json_obj =  '{ \"Name\":\"David\", \"Class\":\"I\", \"Age\":6 }'\n",
    "python_obj = json.loads(json_obj)\n",
    "print(\"\\nJSON data:\")\n",
    "print(python_obj)\n",
    "print(\"\\nName: \",python_obj[\"Name\"])\n",
    "print(\"Class: \",python_obj[\"Class\"])\n",
    "print(\"Age: \",python_obj[\"Age\"])"
   ]
  },
  {
   "cell_type": "code",
   "execution_count": 2,
   "metadata": {},
   "outputs": [
    {
     "name": "stdout",
     "output_type": "stream",
     "text": [
      "<class 'dict'>\n",
      "{\"name\": \"David\", \"class\": \"I\", \"age\": 6}\n"
     ]
    }
   ],
   "source": [
    "#Python program to convert Python object to JSON data.\n",
    "import json\n",
    "# a Python object (dict):\n",
    "python_obj = {\n",
    "  \"name\": \"David\",\n",
    "  \"class\":\"I\",\n",
    "  \"age\": 6  \n",
    "}\n",
    "print(type(python_obj))\n",
    "# convert into JSON:\n",
    "j_data = json.dumps(python_obj)\n",
    "\n",
    "# result is a JSON string:\n",
    "print(j_data)"
   ]
  },
  {
   "cell_type": "code",
   "execution_count": 3,
   "metadata": {},
   "outputs": [
    {
     "name": "stdout",
     "output_type": "stream",
     "text": [
      "json dict :  {\"name\": \"David\", \"age\": 6, \"class\": \"I\"}\n",
      "jason list :  [\"Red\", \"Green\", \"Black\"]\n",
      "json string :  \"Python Json\"\n",
      "json number1 :  1234\n",
      "json number2 :  21.34\n",
      "json true :  true\n",
      "json false :  false\n",
      "json null ;  null\n"
     ]
    }
   ],
   "source": [
    "# Python program to convert Python objects into JSON strings. Print all the values.\n",
    "import json\n",
    "python_dict =  {\"name\": \"David\", \"age\": 6, \"class\":\"I\"}\n",
    "python_list =  [\"Red\", \"Green\", \"Black\"]\n",
    "python_str =  \"Python Json\"\n",
    "python_int =  (1234)\n",
    "python_float =  (21.34)\n",
    "python_T =  (True)\n",
    "python_F =  (False)\n",
    "python_N =  (None)\n",
    "\n",
    "json_dict = json.dumps(python_dict)\n",
    "json_list = json.dumps(python_list)\n",
    "json_str = json.dumps(python_str)\n",
    "json_num1 = json.dumps(python_int)\n",
    "json_num2 = json.dumps(python_float)\n",
    "json_t = json.dumps(python_T)\n",
    "json_f = json.dumps(python_F)\n",
    "json_n = json.dumps(python_N)\n",
    "\n",
    "print(\"json dict : \", json_dict)\n",
    "print(\"jason list : \", json_list)\n",
    "print(\"json string : \", json_str)\n",
    "print(\"json number1 : \", json_num1)\n",
    "print(\"json number2 : \", json_num2)\n",
    "print(\"json true : \", json_t)\n",
    "print(\"json false : \", json_f)\n",
    "print(\"json null ; \", json_n)"
   ]
  },
  {
   "cell_type": "code",
   "execution_count": 4,
   "metadata": {},
   "outputs": [
    {
     "name": "stdout",
     "output_type": "stream",
     "text": [
      "Original String:\n",
      "{'4': 5, '6': 7, '1': 3, '2': 4}\n",
      "\n",
      "JSON data:\n",
      "{\n",
      "    \"1\": 3,\n",
      "    \"2\": 4,\n",
      "    \"4\": 5,\n",
      "    \"6\": 7\n",
      "}\n"
     ]
    }
   ],
   "source": [
    "#Python program to convert Python dictionary object (sort by key) to JSON data. Print the object members with indent level 4.\n",
    "import json\n",
    "j_str = {'4': 5, '6': 7, '1': 3, '2': 4}\n",
    "print(\"Original String:\")\n",
    "print(j_str)\n",
    "print(\"\\nJSON data:\")\n",
    "print(json.dumps(j_str, sort_keys=True, indent=4))"
   ]
  },
  {
   "cell_type": "code",
   "execution_count": 5,
   "metadata": {},
   "outputs": [
    {
     "name": "stdout",
     "output_type": "stream",
     "text": [
      "Python dictionary:  {'name': 'David', 'age': 6, 'class': 'I'}\n",
      "Python list:  ['Red', 'Green', 'Black']\n",
      "Python string:  Python Json\n",
      "Python integer:  1234\n",
      "Python float:  21.34\n"
     ]
    }
   ],
   "source": [
    "#Python program to convert JSON encoded data into Python objects.\n",
    "import json\n",
    "\n",
    "jobj_dict =  '{\"name\": \"David\", \"age\": 6, \"class\": \"I\"}'\n",
    "jobj_list =   '[\"Red\", \"Green\", \"Black\"]'\n",
    "jobj_string = '\"Python Json\"'\n",
    "jobj_int = '1234'\n",
    "jobj_float =  '21.34'\n",
    "python_dict =  json.loads(jobj_dict)\n",
    "python_list = json.loads(jobj_list)\n",
    "python_str =  json.loads(jobj_string)\n",
    "python_int =   json.loads(jobj_int)\n",
    "python_float = json.loads(jobj_float)\n",
    "\n",
    "print(\"Python dictionary: \", python_dict)\n",
    "print(\"Python list: \", python_list)\n",
    "print(\"Python string: \", python_str)\n",
    "print(\"Python integer: \", python_int)\n",
    "print(\"Python float: \", python_float)"
   ]
  },
  {
   "cell_type": "code",
   "execution_count": 8,
   "metadata": {},
   "outputs": [],
   "source": [
    "# Python program to create a new JSON file from an existing JSON file.\n",
    "\n",
    "import json\n",
    "\n",
    "with open('states.json') as f:\n",
    "  state_data= json.load(f)\n",
    "\n",
    "for state in state_data['states']:\n",
    "  del state['area_codes']\n",
    "\n",
    "with open('new_states.json', 'w') as f:\n",
    "  json.dump(state_data, f, indent=2)\n"
   ]
  },
  {
   "cell_type": "code",
   "execution_count": 9,
   "metadata": {},
   "outputs": [
    {
     "name": "stdout",
     "output_type": "stream",
     "text": [
      "[2.0, 3.0]\n"
     ]
    }
   ],
   "source": [
    "#Python program to check whether an instance is complex or not.\n",
    "import json\n",
    "\n",
    "def encode_complex(object):\n",
    "    # check using isinstance method\n",
    "    if isinstance(object, complex):\n",
    "        return [object.real, object.imag]\n",
    "    # raised error if object is not complex\n",
    "    raise TypeError(repr(object) + \" is not JSON serialized\")\n",
    "\n",
    "complex_obj = json.dumps(2 + 3j, default=encode_complex)\n",
    "print(complex_obj) \n"
   ]
  },
  {
   "cell_type": "code",
   "execution_count": 10,
   "metadata": {},
   "outputs": [
    {
     "name": "stdout",
     "output_type": "stream",
     "text": [
      "Complex_object:  (4+5j)\n",
      "Without complex object:  {'real': 4, 'img': 3}\n"
     ]
    }
   ],
   "source": [
    "#Python program to check whether a JSON string contains complex object or not.\n",
    "import json\n",
    "def is_complex_num(objct):\n",
    "    if '__complex__' in objct:\n",
    "        return complex(objct['real'], objct['img'])\n",
    "    return objct\n",
    "\n",
    "complex_object =json.loads('{\"__complex__\": true, \"real\": 4, \"img\": 5}', object_hook = is_complex_num)\n",
    "simple_object =json.loads('{\"real\": 4, \"img\": 3}', object_hook = is_complex_num)\n",
    "print(\"Complex_object: \",complex_object)\n",
    "print(\"Without complex object: \",simple_object)"
   ]
  },
  {
   "cell_type": "code",
   "execution_count": 11,
   "metadata": {},
   "outputs": [
    {
     "name": "stdout",
     "output_type": "stream",
     "text": [
      "Original Python object:\n",
      "{\"a\":  1, \"a\":  2, \"a\":  3, \"a\": 4, \"b\": 1, \"b\": 2}\n",
      "\n",
      "Unique Key in a JSON object:\n",
      "{'a': 4, 'b': 2}\n"
     ]
    }
   ],
   "source": [
    "#Python program to access only unique key value of a Python object.\n",
    "\n",
    "import json\n",
    "python_obj = '{\"a\":  1, \"a\":  2, \"a\":  3, \"a\": 4, \"b\": 1, \"b\": 2}'\n",
    "print(\"Original Python object:\")\n",
    "print(python_obj)\n",
    "json_obj = json.loads(python_obj)\n",
    "print(\"\\nUnique Key in a JSON object:\")\n",
    "print(json_obj) "
   ]
  },
  {
   "cell_type": "code",
   "execution_count": null,
   "metadata": {},
   "outputs": [],
   "source": []
  }
 ],
 "metadata": {
  "kernelspec": {
   "display_name": "Python 3",
   "language": "python",
   "name": "python3"
  },
  "language_info": {
   "codemirror_mode": {
    "name": "ipython",
    "version": 3
   },
   "file_extension": ".py",
   "mimetype": "text/x-python",
   "name": "python",
   "nbconvert_exporter": "python",
   "pygments_lexer": "ipython3",
   "version": "3.8.5"
  }
 },
 "nbformat": 4,
 "nbformat_minor": 4
}
