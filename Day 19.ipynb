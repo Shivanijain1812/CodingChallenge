{
 "cells": [
  {
   "cell_type": "code",
   "execution_count": 11,
   "metadata": {},
   "outputs": [
    {
     "name": "stdout",
     "output_type": "stream",
     "text": [
      "[1]\n",
      "[1, 2]\n",
      "[1, 2, 3]\n",
      "[1, 2, 3, 4]\n",
      "[1, 2, 3, 4, 5]\n",
      "-1\n",
      "[1]\n",
      "[1, 2]\n",
      "[1, 2, 3]\n",
      "[1, 2, 3, 4]\n",
      "4\n",
      "[0]\n",
      "0\n"
     ]
    }
   ],
   "source": [
    "#find the first duplicate element in a given array of integers. Return -1 If there are no such elements.\n",
    "def duplicate_ele(num):\n",
    "    a = []           #empty list\n",
    "    b = -1\n",
    "    for i in range(len(num)):      #loop length by len of list\n",
    "        if num[i] not in a:        #if number is unique \n",
    "            a.append(num[i])       #add the element in list a\n",
    "            print(a)\n",
    "        else:\n",
    "            return num[i]          #if element is not unique then print the number\n",
    "    return b\n",
    "print(duplicate_ele([1, 2, 3, 4, 5]))\n",
    "print(duplicate_ele([1, 2, 3, 4, 4, 5]))\n",
    "print(duplicate_ele([0, 0, 1, 1, 2, 3, 4, 5]))\n",
    "\n",
    "\n",
    "    "
   ]
  },
  {
   "cell_type": "code",
   "execution_count": 14,
   "metadata": {},
   "outputs": [
    {
     "name": "stdout",
     "output_type": "stream",
     "text": [
      "True\n",
      "False\n"
     ]
    }
   ],
   "source": [
    "'''Write a Python program to check whether it follows the sequence given in the patterns array.\n",
    "\n",
    "Pattern example:\n",
    "For color1 = [\"red\", \"green\", \"green\"] and patterns = [\"a\", \"b\", \"b\"]\n",
    "the output should be samePatterns(color1, patterns) = true;\n",
    "For color2 = [\"red\", \"green\", \"greenn\"] and patterns = [\"a\", \"b\", \"b\"]\n",
    "the output should be samePatterns (strings, color2) = false.'''\n",
    "\n",
    "\n",
    "def is_samePatterns(colors, patterns):    \n",
    "    if len(colors) != len(patterns):\n",
    "        return False    \n",
    "    sdict = {}\n",
    "    pset = set()\n",
    "    sset = set()    \n",
    "    for i in range(len(patterns)):\n",
    "        pset.add(patterns[i])\n",
    "        sset.add(colors[i])\n",
    "        if patterns[i] not in sdict.keys():\n",
    "            sdict[patterns[i]] = []\n",
    "\n",
    "        keys = sdict[patterns[i]]\n",
    "        keys.append(colors[i])\n",
    "        sdict[patterns[i]] = keys\n",
    "\n",
    "    if len(pset) != len(sset):\n",
    "        return False   \n",
    "\n",
    "    for values in sdict.values():\n",
    "\n",
    "        for i in range(len(values) - 1):\n",
    "            if values[i] != values[i+1]:\n",
    "                return False\n",
    "\n",
    "    return True\n",
    "\n",
    "print(is_samePatterns([\"red\", \n",
    " \"green\", \n",
    " \"green\"], [\"a\", \n",
    " \"b\", \n",
    " \"b\"])) \n",
    "\n",
    "print(is_samePatterns([\"red\", \n",
    " \"green\", \n",
    " \"greenn\"], [\"a\", \n",
    " \"b\", \n",
    " \"b\"])) \n",
    "    \n",
    "    "
   ]
  },
  {
   "cell_type": "code",
   "execution_count": 12,
   "metadata": {},
   "outputs": [
    {
     "name": "stdout",
     "output_type": "stream",
     "text": [
      "Array buffer start address in memory and number of elements.\n",
      "(2599694840688, 2)\n"
     ]
    }
   ],
   "source": [
    "#Write a Python program to get an array buffer information.\n",
    "\n",
    "from array import array\n",
    "a = array(\"I\", (12,25))\n",
    "print(\"Array buffer start address in memory and number of elements.\")\n",
    "print(a.buffer_info())"
   ]
  },
  {
   "cell_type": "code",
   "execution_count": 15,
   "metadata": {},
   "outputs": [
    {
     "name": "stdout",
     "output_type": "stream",
     "text": [
      "Original array: [1, 2, 3, 4, 7, 0, 8, 4]\n",
      "Maximum product pair is: (7, 8)\n",
      "\n",
      "Original array: [0, -1, -2, -4, 5, 0, -6]\n",
      "Maximum product pair is: (-4, -6)\n"
     ]
    }
   ],
   "source": [
    "\"\"\"Write a Python program to find a pair with highest product from a given array of integers.\n",
    "\n",
    "Examples :\n",
    "Input: arr[] = {1, 2, 3, 4, 7, 0, 8, 4}\n",
    "Output: {7,8}\n",
    "Input: arr[] = {0, -1, -2, -4, 5, 0, -6}\n",
    "Output: {-4, -6}\n",
    "\"\"\"\n",
    "def max_Product(arr): \n",
    "    arr_len = len(arr) \n",
    "    if (arr_len < 2): \n",
    "        print(\"No pairs exists\") \n",
    "        return      \n",
    "    # Initialize max product pair \n",
    "    x = arr[0]; y = arr[1] \n",
    "\n",
    "    # Traverse through every possible pair     \n",
    "    for i in range(0, arr_len): \n",
    "\n",
    "        for j in range(i + 1, arr_len): \n",
    "            if (arr[i] * arr[j] > x * y): \n",
    "                x = arr[i]; y = arr[j] \n",
    "\n",
    "    return x,y    \n",
    "\n",
    "nums = [1, 2, 3, 4, 7, 0, 8, 4] \n",
    "print(\"Original array:\", nums)\n",
    "print(\"Maximum product pair is:\", max_Product(nums))\n",
    "\n",
    "nums = [0, -1, -2, -4, 5, 0, -6] \n",
    "print(\"\\nOriginal array:\", nums)\n",
    "print(\"Maximum product pair is:\", max_Product(nums))"
   ]
  },
  {
   "cell_type": "code",
   "execution_count": 16,
   "metadata": {},
   "outputs": [
    {
     "name": "stdout",
     "output_type": "stream",
     "text": [
      "array1: array('i', [7, 8, 9, 10])\n",
      "Bytes: b'0700000008000000090000000a000000'\n",
      "array2: array('i', [7, 8, 9, 10])\n"
     ]
    }
   ],
   "source": [
    "#Write a Python program to read a string and interpreting the string as an array of machine values.\n",
    "\n",
    "import binascii\n",
    "array1 = array('i', [7, 8, 9, 10])\n",
    "print('array1:', array1)\n",
    "as_bytes = array1.tobytes()\n",
    "print('Bytes:', binascii.hexlify(as_bytes))\n",
    "array2 = array('i')\n",
    "array2.frombytes(as_bytes)\n",
    "print('array2:', array2)"
   ]
  },
  {
   "cell_type": "code",
   "execution_count": null,
   "metadata": {},
   "outputs": [],
   "source": []
  }
 ],
 "metadata": {
  "kernelspec": {
   "display_name": "Python 3",
   "language": "python",
   "name": "python3"
  },
  "language_info": {
   "codemirror_mode": {
    "name": "ipython",
    "version": 3
   },
   "file_extension": ".py",
   "mimetype": "text/x-python",
   "name": "python",
   "nbconvert_exporter": "python",
   "pygments_lexer": "ipython3",
   "version": "3.8.5"
  }
 },
 "nbformat": 4,
 "nbformat_minor": 4
}
