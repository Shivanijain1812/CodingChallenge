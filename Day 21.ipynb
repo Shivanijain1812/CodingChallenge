{
 "cells": [
  {
   "cell_type": "code",
   "execution_count": 5,
   "metadata": {},
   "outputs": [
    {
     "name": "stdout",
     "output_type": "stream",
     "text": [
      "5\n",
      "5\n"
     ]
    }
   ],
   "source": [
    "#Python program to count the number of even and odd numbers from a series of numbers.\n",
    "num = [0,1,2,3,4,5,6,7,8,9]\n",
    "odd = 0\n",
    "even = 0\n",
    "\n",
    "for i in num:\n",
    "    if i%2==0:\n",
    "        even += 1\n",
    "    else:\n",
    "        odd +=1\n",
    "\n",
    "print(even)\n",
    "print(odd)\n"
   ]
  },
  {
   "cell_type": "code",
   "execution_count": 6,
   "metadata": {},
   "outputs": [
    {
     "name": "stdout",
     "output_type": "stream",
     "text": [
      "Type of  1452  is  <class 'int'>\n",
      "Type of  11.23  is  <class 'float'>\n",
      "Type of  (1+2j)  is  <class 'complex'>\n",
      "Type of  True  is  <class 'bool'>\n",
      "Type of  w3resource  is  <class 'str'>\n",
      "Type of  (0, -1)  is  <class 'tuple'>\n",
      "Type of  [5, 12]  is  <class 'list'>\n",
      "Type of  {'class': 'V', 'section': 'A'}  is  <class 'dict'>\n"
     ]
    }
   ],
   "source": [
    "#Python program that prints each item and its corresponding type from the following list.\n",
    "datalist = [1452, 11.23, 1+2j, True, 'w3resource', (0, -1), [5, 12],\n",
    "{\"class\":'V', \"section\":'A'}]\n",
    "for item in datalist:\n",
    "   print (\"Type of \",item, \" is \", type(item))\n",
    "   "
   ]
  },
  {
   "cell_type": "code",
   "execution_count": 8,
   "metadata": {},
   "outputs": [
    {
     "name": "stdout",
     "output_type": "stream",
     "text": [
      "0 1 2 4 5 \n",
      "\n"
     ]
    }
   ],
   "source": [
    "#Python program that prints all the numbers from 0 to 6 except 3 and 6.Note : Use 'continue' statement.\n",
    "\n",
    "\n",
    "for x in range(6):\n",
    "    if (x == 3 or x==6):\n",
    "        continue\n",
    "    print(x,end=' ')\n",
    "print(\"\\n\")\n"
   ]
  },
  {
   "cell_type": "code",
   "execution_count": 12,
   "metadata": {},
   "outputs": [
    {
     "name": "stdout",
     "output_type": "stream",
     "text": [
      "0\n",
      "1\n",
      "3\n",
      "6\n",
      "10\n",
      "Answer is : 10\n"
     ]
    }
   ],
   "source": [
    "#Fibonacci series\n",
    "num = 0\n",
    "for i in range(5):\n",
    "    num = num + i\n",
    "    print(num)\n",
    "print(\"Answer is : \" + str(num))\n",
    "    "
   ]
  },
  {
   "cell_type": "code",
   "execution_count": 15,
   "metadata": {},
   "outputs": [
    {
     "name": "stdout",
     "output_type": "stream",
     "text": [
      "fizzbuzz\n",
      "1\n",
      "2\n",
      "fizz\n",
      "4\n",
      "buzz\n",
      "fizz\n",
      "7\n",
      "8\n",
      "fizz\n",
      "buzz\n",
      "11\n",
      "fizz\n",
      "13\n",
      "14\n",
      "fizzbuzz\n",
      "16\n",
      "17\n",
      "fizz\n",
      "19\n",
      "buzz\n",
      "fizz\n",
      "22\n",
      "23\n",
      "fizz\n",
      "buzz\n",
      "26\n",
      "fizz\n",
      "28\n",
      "29\n",
      "fizzbuzz\n",
      "31\n",
      "32\n",
      "fizz\n",
      "34\n",
      "buzz\n",
      "fizz\n",
      "37\n",
      "38\n",
      "fizz\n",
      "buzz\n",
      "41\n",
      "fizz\n",
      "43\n",
      "44\n",
      "fizzbuzz\n",
      "46\n",
      "47\n",
      "fizz\n",
      "49\n",
      "buzz\n"
     ]
    }
   ],
   "source": [
    "'''Write a Python program which iterates the integers from 1 to 50. \n",
    "For multiples of three print \"Fizz\" instead of the number and for the multiples of five print \"Buzz\". \n",
    "For numbers which are multiples of both three and five print \"FizzBuzz\".'''\n",
    "\n",
    "for fizzbuzz in range(51):\n",
    "    if fizzbuzz % 3 == 0 and fizzbuzz % 5 == 0:\n",
    "        print(\"fizzbuzz\")\n",
    "        continue\n",
    "    elif fizzbuzz % 3 == 0:\n",
    "        print(\"fizz\")\n",
    "        continue\n",
    "    elif fizzbuzz % 5 == 0:\n",
    "        print(\"buzz\")\n",
    "        continue\n",
    "    print(fizzbuzz)\n"
   ]
  },
  {
   "cell_type": "code",
   "execution_count": null,
   "metadata": {},
   "outputs": [],
   "source": []
  }
 ],
 "metadata": {
  "kernelspec": {
   "display_name": "Python 3",
   "language": "python",
   "name": "python3"
  },
  "language_info": {
   "codemirror_mode": {
    "name": "ipython",
    "version": 3
   },
   "file_extension": ".py",
   "mimetype": "text/x-python",
   "name": "python",
   "nbconvert_exporter": "python",
   "pygments_lexer": "ipython3",
   "version": "3.8.5"
  }
 },
 "nbformat": 4,
 "nbformat_minor": 4
}
