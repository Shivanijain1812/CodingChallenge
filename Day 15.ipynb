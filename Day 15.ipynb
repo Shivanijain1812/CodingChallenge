{
 "cells": [
  {
   "cell_type": "code",
   "execution_count": 5,
   "metadata": {},
   "outputs": [
    {
     "name": "stdout",
     "output_type": "stream",
     "text": [
      "()\n",
      "(1, 2, 3)\n",
      "(1, 'Hello', [2, 4, 5], {'name': 'Test', 'Age': 14})\n",
      "(1, 2.3, 'Hello')\n",
      "1\n",
      "2.3\n",
      "Hello\n",
      "<class 'str'>\n",
      "<class 'tuple'>\n",
      "(4, 2, 3, [6, 2])\n"
     ]
    }
   ],
   "source": [
    "#Create a tuple \n",
    "#empty tuple\n",
    "x = ()\n",
    "print(x)\n",
    "#having integers\n",
    "x = (1,2,3)\n",
    "print(x)\n",
    "#having mixed data types\n",
    "x = (1,\"Hello\",[2,4,5],{\"name\":\"Test\",\"Age\": 14})\n",
    "print(x)\n",
    "#without parantheses\n",
    "x = 1, 2.3, \"Hello\"\n",
    "print(x)\n",
    "#unpacking the tuple\n",
    "a,b,c = x\n",
    "print(a)\n",
    "print(b)\n",
    "print(c)\n",
    "#Having one element within parentheses is not enough. We will need a trailing comma to indicate that it is, in fact, a tuple.\n",
    "x = (\"hello\")\n",
    "print(type(x))\n",
    "x = (\"hello\",)\n",
    "print(type(x))\n",
    "#Changing tupple values \n",
    "x = (4, 2, 3, [6, 5])\n",
    "x[3][1]= 2\n",
    "print(x)"
   ]
  },
  {
   "cell_type": "code",
   "execution_count": null,
   "metadata": {},
   "outputs": [],
   "source": [
    "#Python program to get the 4th element and 4th element from last of a tuple.\n",
    "\n",
    "#Get an item of the tuple\n",
    "tuplex = (\"w\", 3, \"r\", \"e\", \"s\", \"o\", \"u\", \"r\", \"c\", \"e\")\n",
    "print(tuplex)\n",
    "#Get item (4th element)of the tuple by index\n",
    "item = tuplex[3]\n",
    "print(item)\n",
    "#Get item (4th element from last)by index negative\n",
    "item1 = tuplex[-4]\n",
    "print(item1)"
   ]
  },
  {
   "cell_type": "code",
   "execution_count": 10,
   "metadata": {},
   "outputs": [
    {
     "name": "stdout",
     "output_type": "stream",
     "text": [
      "('HELLO', 5, [23], True)\n"
     ]
    }
   ],
   "source": [
    "#Python program to create the colon of a tuple\n",
    "x = (\"HELLO\", 5, [], True) \n",
    "x[2].append(23)\n",
    "print(x)"
   ]
  },
  {
   "cell_type": "code",
   "execution_count": 11,
   "metadata": {},
   "outputs": [
    {
     "name": "stdout",
     "output_type": "stream",
     "text": [
      "4\n"
     ]
    }
   ],
   "source": [
    "print(len(x))"
   ]
  },
  {
   "cell_type": "code",
   "execution_count": 13,
   "metadata": {},
   "outputs": [
    {
     "name": "stdout",
     "output_type": "stream",
     "text": [
      "This is a tuple: ('HELLO', 5, [23], True)\n"
     ]
    }
   ],
   "source": [
    "print(\"This is a tuple: \" + str(x))"
   ]
  },
  {
   "cell_type": "code",
   "execution_count": 32,
   "metadata": {},
   "outputs": [
    {
     "name": "stdout",
     "output_type": "stream",
     "text": [
      "8\n",
      "<class 'tuple'>\n",
      "(7, 6, 2, 9, 6, 5, 3, 1)\n"
     ]
    }
   ],
   "source": [
    "x = (1,3,5,6,9,2,6,7)\n",
    "z = []\n",
    "y = len(x)\n",
    "print(y)\n",
    "for i in range(y):\n",
    "    z.append(x[y-i-1])\n",
    "z = tuple(z)\n",
    "print(type(z))\n",
    "print(z)"
   ]
  },
  {
   "cell_type": "code",
   "execution_count": null,
   "metadata": {},
   "outputs": [],
   "source": []
  }
 ],
 "metadata": {
  "kernelspec": {
   "display_name": "Python 3",
   "language": "python",
   "name": "python3"
  },
  "language_info": {
   "codemirror_mode": {
    "name": "ipython",
    "version": 3
   },
   "file_extension": ".py",
   "mimetype": "text/x-python",
   "name": "python",
   "nbconvert_exporter": "python",
   "pygments_lexer": "ipython3",
   "version": "3.8.5"
  }
 },
 "nbformat": 4,
 "nbformat_minor": 4
}
